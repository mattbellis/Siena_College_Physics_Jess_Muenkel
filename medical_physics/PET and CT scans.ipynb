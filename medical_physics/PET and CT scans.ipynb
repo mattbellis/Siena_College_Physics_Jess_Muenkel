{
 "metadata": {
  "name": "",
  "signature": "sha256:05bd932e518231b282c5b69d1e93e5726b3e1646c0eeed65d6468ca5f1448632"
 },
 "nbformat": 3,
 "nbformat_minor": 0,
 "worksheets": [
  {
   "cells": [
    {
     "cell_type": "markdown",
     "metadata": {},
     "source": [
      "In a PET scan some amount of $^{18}$F is injected into the body. "
     ]
    },
    {
     "cell_type": "markdown",
     "metadata": {},
     "source": [
      "What is the lifetime for $^{18}$F? "
     ]
    },
    {
     "cell_type": "code",
     "collapsed": false,
     "input": [
      "f_lifetime = None"
     ],
     "language": "python",
     "metadata": {},
     "outputs": [],
     "prompt_number": 1
    },
    {
     "cell_type": "markdown",
     "metadata": {},
     "source": [
      "A typical dose is 5 millicurie. How many atoms ($N_0$) of the isotope is this?"
     ]
    },
    {
     "cell_type": "code",
     "collapsed": false,
     "input": [
      "N0 = None"
     ],
     "language": "python",
     "metadata": {},
     "outputs": []
    },
    {
     "cell_type": "markdown",
     "metadata": {},
     "source": [
      "5 millicurie represents how many decays per second?"
     ]
    },
    {
     "cell_type": "code",
     "collapsed": false,
     "input": [
      "n_decays_second = None"
     ],
     "language": "python",
     "metadata": {},
     "outputs": [],
     "prompt_number": 3
    },
    {
     "cell_type": "markdown",
     "metadata": {},
     "source": [
      "Assume that someone is injected with 5 millicuries of $^{18}$F. Make a plot of the number of decays per minute, over a 6 hour period. "
     ]
    },
    {
     "cell_type": "code",
     "collapsed": false,
     "input": [
      "# Plot here"
     ],
     "language": "python",
     "metadata": {},
     "outputs": [],
     "prompt_number": 4
    },
    {
     "cell_type": "markdown",
     "metadata": {},
     "source": [
      "Using the same information, make a plot of the number of decays per second for the first 10 minutes after injection."
     ]
    },
    {
     "cell_type": "code",
     "collapsed": false,
     "input": [
      "# Plot here"
     ],
     "language": "python",
     "metadata": {},
     "outputs": [],
     "prompt_number": 5
    },
    {
     "cell_type": "markdown",
     "metadata": {},
     "source": [
      "Using the same information, make a plot of the number of decays per microsecond, for a 1 second period <i>after</i> the first 10 minutes after the injection. "
     ]
    },
    {
     "cell_type": "code",
     "collapsed": false,
     "input": [
      "# Plot here"
     ],
     "language": "python",
     "metadata": {},
     "outputs": [],
     "prompt_number": 6
    },
    {
     "cell_type": "code",
     "collapsed": false,
     "input": [],
     "language": "python",
     "metadata": {},
     "outputs": []
    }
   ],
   "metadata": {}
  }
 ]
}