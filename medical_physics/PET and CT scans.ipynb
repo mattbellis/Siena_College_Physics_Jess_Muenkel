{
 "metadata": {
  "name": "",
  "signature": "sha256:f99626c1ea54773590fc72a2c0f26c8a384fe605951bb4676ff99ec274062a50"
 },
 "nbformat": 3,
 "nbformat_minor": 0,
 "worksheets": [
  {
   "cells": [
    {
     "cell_type": "markdown",
     "metadata": {},
     "source": [
      "In a PET scan some amount of $^{18}$F is injected into the body. "
     ]
    },
    {
     "cell_type": "markdown",
     "metadata": {},
     "source": [
      "What is the lifetime for $^{18}$F (half life)? In seconds"
     ]
    },
    {
     "cell_type": "code",
     "collapsed": false,
     "input": [
      "f_lifetime_min = 109.771\n",
      "f_lifetime_sec = 109.771*60\n",
      "f_lifetime_micro=109.771*60*1e6"
     ],
     "language": "python",
     "metadata": {},
     "outputs": [],
     "prompt_number": 1
    },
    {
     "cell_type": "markdown",
     "metadata": {},
     "source": [
      "A typical dose is 5 millicurie. How many atoms ($N_0$) of the isotope is this?"
     ]
    },
    {
     "cell_type": "code",
     "collapsed": false,
     "input": [
      "import math\n",
      "k_min=math.log(2)/f_lifetime_min\n",
      "k_sec=math.log(2)/f_lifetime_sec\n",
      "k_micro=math.log(2)/f_lifetime_micro\n",
      "N0 = 1.85e8/k_sec\n",
      "print N0"
     ],
     "language": "python",
     "metadata": {},
     "outputs": [
      {
       "output_type": "stream",
       "stream": "stdout",
       "text": [
        "1.7578634584e+12\n"
       ]
      }
     ],
     "prompt_number": 2
    },
    {
     "cell_type": "markdown",
     "metadata": {},
     "source": [
      "5 millicurie represents how many decays per second?\n",
      "    (1Ci=3.7x10^10 decays/s)"
     ]
    },
    {
     "cell_type": "code",
     "collapsed": false,
     "input": [
      "n_decays_second = 1.85e8"
     ],
     "language": "python",
     "metadata": {},
     "outputs": [],
     "prompt_number": 3
    },
    {
     "cell_type": "markdown",
     "metadata": {},
     "source": [
      "Assume that someone is injected with 5 millicuries of $^{18}$F. Make a plot of the number of decays per minute, over a 6 hour period. "
     ]
    },
    {
     "cell_type": "code",
     "collapsed": false,
     "input": [
      "import numpy as np\n",
      "\n",
      "#import matplotlib as mpl\n",
      "#from mpl_toolkits.mplot3d import Axes3D\n",
      "import matplotlib.pyplot as plt\n",
      "\n",
      "# Uncomment this if you want the graphs to pop out and be interactive\n",
      "#%pylab qt\n",
      "%matplotlib inline\n",
      "y=[]\n",
      "p0=n_decays_second*60\n",
      "n=10000\n",
      "x=np.linspace(0.,6.,n)\n",
      "for t in x:\n",
      "    z=60*t\n",
      "    p=p0*math.exp(-k_min*z)\n",
      "    y.append(p)    \n",
      "\n",
      "    \n",
      "plt.figure(1)\n",
      "plt.xlabel(\"Time in Hours for the First 6 Hours\")\n",
      "plt.ylabel(\"Number of Decays per Minute\")\n",
      "plt.plot(x,y)    \n",
      "    \n"
     ],
     "language": "python",
     "metadata": {},
     "outputs": [
      {
       "metadata": {},
       "output_type": "pyout",
       "prompt_number": 71,
       "text": [
        "[<matplotlib.lines.Line2D at 0x10f4a7c50>]"
       ]
      },
      {
       "metadata": {},
       "output_type": "display_data",
       "png": "[encoded data removed]",
       "text": [
        "<matplotlib.figure.Figure at 0x10f2cbb10>"
       ]
      }
     ],
     "prompt_number": 71
    },
    {
     "cell_type": "markdown",
     "metadata": {},
     "source": [
      "Using the same information, make a plot of the number of decays per second for the first 10 minutes after injection."
     ]
    },
    {
     "cell_type": "code",
     "collapsed": false,
     "input": [
      "y=[]\n",
      "p0=n_decays_second\n",
      "n=10000\n",
      "x=np.linspace(0.,10.,n)\n",
      "for t in x:\n",
      "    z=60*t\n",
      "    p=p0*math.exp(-k_sec*z)\n",
      "    y.append(p)    \n",
      "\n",
      "    \n",
      "plt.figure(1)\n",
      "plt.xlabel(\"Time in Minutes for the First 10 Minutes\")\n",
      "plt.ylabel(\"Number of Decays per Second\")\n",
      "plt.plot(x,y) "
     ],
     "language": "python",
     "metadata": {},
     "outputs": [
      {
       "metadata": {},
       "output_type": "pyout",
       "prompt_number": 70,
       "text": [
        "[<matplotlib.lines.Line2D at 0x10f394250>]"
       ]
      },
      {
       "metadata": {},
       "output_type": "display_data",
       "png": "[encoded data removed]",
       "text": [
        "<matplotlib.figure.Figure at 0x10f0a5850>"
       ]
      }
     ],
     "prompt_number": 70
    },
    {
     "cell_type": "markdown",
     "metadata": {},
     "source": [
      "Using the same information, make a plot of the number of decays per microsecond, for a 1 second period <i>after</i> the first 10 minutes after the injection. "
     ]
    },
    {
     "cell_type": "code",
     "collapsed": false,
     "input": [
      "y=[]\n",
      "p0=n_decays_second*1e-6\n",
      "n=100\n",
      "x=np.linspace(0,1,n)\n",
      "for t in x:\n",
      "    z=1e6*(t+600)\n",
      "    p=p0*math.exp(-k_micro*z)\n",
      "    y.append(p)    \n",
      "\n",
      "    \n",
      "plt.figure(1)    \n",
      "plt.ylim(173,174)\n",
      "#plt.xlim(0,1)\n",
      "plt.xlabel(\"Time in Seconds After the First 10 Minutes\")\n",
      "plt.ylabel(\"Number of Decays per Microsecond\")\n",
      "plt.plot(x,y)\n"
     ],
     "language": "python",
     "metadata": {},
     "outputs": [
      {
       "metadata": {},
       "output_type": "pyout",
       "prompt_number": 67,
       "text": [
        "[<matplotlib.lines.Line2D at 0x10ef222d0>]"
       ]
      },
      {
       "metadata": {},
       "output_type": "display_data",
       "png": "[encoded data removed]",
       "text": [
        "<matplotlib.figure.Figure at 0x10ee1c0d0>"
       ]
      }
     ],
     "prompt_number": 67
    },
    {
     "cell_type": "code",
     "collapsed": false,
     "input": [],
     "language": "python",
     "metadata": {},
     "outputs": []
    }
   ],
   "metadata": {}
  }
 ]
}