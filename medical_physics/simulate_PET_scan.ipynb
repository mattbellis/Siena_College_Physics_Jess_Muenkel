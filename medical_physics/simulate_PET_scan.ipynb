{
 "metadata": {
  "name": "",
  "signature": "sha256:d6fe9c0808dcb6cb2f53b08d3c583a737200187b1e10ffdfab1c3c8799603c57"
 },
 "nbformat": 3,
 "nbformat_minor": 0,
 "worksheets": [
  {
   "cells": [
    {
     "cell_type": "code",
     "collapsed": false,
     "input": [
      "import numpy as np\n",
      "import matplotlib.pylab as plt\n",
      "\n",
      "%matplotlib inline"
     ],
     "language": "python",
     "metadata": {},
     "outputs": [],
     "prompt_number": 31
    },
    {
     "cell_type": "code",
     "collapsed": false,
     "input": [
      "# Position of isotope emitter\n",
      "x0 = 0.0\n",
      "y0 = 0.0\n",
      "\n",
      "radius = 1.0"
     ],
     "language": "python",
     "metadata": {},
     "outputs": [],
     "prompt_number": 32
    },
    {
     "cell_type": "code",
     "collapsed": false,
     "input": [
      "ndecays = 10000\n",
      "\n",
      "k = np.log(2.)/(109*60.)\n",
      "#t = np.random.exponential(1./k,1000)\n",
      "times = 60*np.random.random(ndecays) # In seconds\n",
      "\n",
      "times /= 1e9\n",
      "\n",
      "\n",
      "\n",
      "#print t\n",
      "\n",
      "h = plt.hist(times/60,bins=50)"
     ],
     "language": "python",
     "metadata": {},
     "outputs": [
      {
       "metadata": {},
       "output_type": "display_data",
       "png": "[encoded data removed]",
       "text": [
        "<matplotlib.figure.Figure at 0x7fd79a0bd350>"
       ]
      }
     ],
     "prompt_number": 33
    },
    {
     "cell_type": "code",
     "collapsed": false,
     "input": [
      "# Figure out where the two photons go\n",
      "\n",
      "def phi2detector(phi):\n",
      "    \n",
      "    ndetectors = 80\n",
      "    \n",
      "    detector = int((phi/(2*np.pi))*ndetectors)\n",
      "    \n",
      "    return detector\n",
      "\n",
      "\n",
      "dets = []\n",
      "output = \"\"\n",
      "for t in times:\n",
      "    \n",
      "    phi = 2*np.pi*np.random.random()\n",
      "    \n",
      "    negphi = 2*np.pi - phi\n",
      "    \n",
      "    det0 = phi2detector(phi)\n",
      "    det1 = phi2detector(negphi)\n",
      "    \n",
      "    c = 3e8\n",
      "    t0 = t+radius/c + np.random.normal(0,1e-9)\n",
      "    t1 = t+radius/c + np.random.normal(0,1e-9)\n",
      "    \n",
      "    #print [det0,det1]\n",
      "    \n",
      "    dets += [det0,det1]\n",
      "    \n",
      "    o = \"%e %d\\n\" % (1e9*t0,det0)\n",
      "    o += \"%e %d\\n\" % (1e9*t1,det1)\n",
      "\n",
      "    #print o\n",
      "    output += o\n",
      "    \n",
      "h = plt.hist(dets,bins=80)\n",
      "\n",
      "outfile = open(\"PET_scan_data_0.dat\",'w')\n",
      "outfile.write(output)\n",
      "outfile.close()\n",
      "    "
     ],
     "language": "python",
     "metadata": {},
     "outputs": [
      {
       "metadata": {},
       "output_type": "display_data",
       "png": "[encoded data removed]",
       "text": [
        "<matplotlib.figure.Figure at 0x7fd79a25da10>"
       ]
      }
     ],
     "prompt_number": 41
    },
    {
     "cell_type": "code",
     "collapsed": false,
     "input": [],
     "language": "python",
     "metadata": {},
     "outputs": [],
     "prompt_number": 34
    },
    {
     "cell_type": "code",
     "collapsed": false,
     "input": [],
     "language": "python",
     "metadata": {},
     "outputs": [],
     "prompt_number": 34
    },
    {
     "cell_type": "code",
     "collapsed": false,
     "input": [],
     "language": "python",
     "metadata": {},
     "outputs": []
    }
   ],
   "metadata": {}
  }
 ]
}