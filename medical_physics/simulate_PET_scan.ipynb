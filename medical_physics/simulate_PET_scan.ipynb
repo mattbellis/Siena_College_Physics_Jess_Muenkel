{
 "metadata": {
  "name": "",
  "signature": "sha256:cca29be7930a3ffcd094875cc3863b17dc83598d8330287d3bf5d9b723d35c68"
 },
 "nbformat": 3,
 "nbformat_minor": 0,
 "worksheets": [
  {
   "cells": [
    {
     "cell_type": "code",
     "collapsed": false,
     "input": [
      "import numpy as np\n",
      "import matplotlib.pylab as plt\n",
      "\n",
      "%matplotlib inline"
     ],
     "language": "python",
     "metadata": {},
     "outputs": [],
     "prompt_number": 23
    },
    {
     "cell_type": "code",
     "collapsed": false,
     "input": [
      "# Position of isotope emitter\n",
      "x0 = 0.0\n",
      "y0 = 0.0\n",
      "\n",
      "radius = 1.0"
     ],
     "language": "python",
     "metadata": {},
     "outputs": [],
     "prompt_number": 24
    },
    {
     "cell_type": "code",
     "collapsed": false,
     "input": [
      "ndecays = 10000\n",
      "\n",
      "k = np.log(2.)/(109*60.)\n",
      "#t = np.random.exponential(1./k,1000)\n",
      "times = 60*np.random.random(ndecays) # In seconds\n",
      "\n",
      "times *= 1e9\n",
      "\n",
      "\n",
      "#print t\n",
      "\n",
      "h = plt.hist(times,bins=50)"
     ],
     "language": "python",
     "metadata": {},
     "outputs": [
      {
       "metadata": {},
       "output_type": "display_data",
       "png": "[encoded data removed]",
       "text": [
        "<matplotlib.figure.Figure at 0x7f77e8244510>"
       ]
      }
     ],
     "prompt_number": 25
    },
    {
     "cell_type": "code",
     "collapsed": false,
     "input": [
      "# Figure out where the two photons go\n",
      "\n",
      "def phi2detector(phi):\n",
      "    \n",
      "    ndetectors = 80\n",
      "    \n",
      "    detector = int((phi/(2*np.pi))*ndetectors)\n",
      "    \n",
      "    return detector\n",
      "\n",
      "\n",
      "dets = []\n",
      "output = \"\"\n",
      "for t in times:\n",
      "    \n",
      "    phi = 2*np.pi*np.random.random()\n",
      "    \n",
      "    negphi = None\n",
      "    if phi<=np.pi:\n",
      "        negphi = np.pi + phi\n",
      "    else:\n",
      "        negphi = phi - np.pi\n",
      "\n",
      "    det0 = phi2detector(phi)\n",
      "    det1 = phi2detector(negphi)\n",
      "    \n",
      "    c = 3e8\n",
      "    t0 = t+radius/c + np.random.normal(0,3)\n",
      "    t1 = t+radius/c + np.random.normal(0,3)\n",
      "    \n",
      "    #print [det0,det1]\n",
      "    \n",
      "    dets += [det0,det1]\n",
      "    \n",
      "    o = \"%-.3f %d\\n\" % (t0,det0)\n",
      "    o += \"%-.3f %d\\n\" % (t1,det1)\n",
      "\n",
      "    #print o\n",
      "    output += o\n",
      "    \n",
      "h = plt.hist(dets,bins=80)\n",
      "\n",
      "outfile = open(\"PET_scan_data_0.dat\",'w')\n",
      "outfile.write(output)\n",
      "outfile.close()\n",
      "    "
     ],
     "language": "python",
     "metadata": {},
     "outputs": [
      {
       "metadata": {},
       "output_type": "display_data",
       "png": "[encoded data removed]",
       "text": [
        "<matplotlib.figure.Figure at 0x7f77e85ce190>"
       ]
      }
     ],
     "prompt_number": 32
    },
    {
     "cell_type": "code",
     "collapsed": false,
     "input": [],
     "language": "python",
     "metadata": {},
     "outputs": [],
     "prompt_number": 20
    },
    {
     "cell_type": "code",
     "collapsed": false,
     "input": [],
     "language": "python",
     "metadata": {},
     "outputs": [],
     "prompt_number": 34
    },
    {
     "cell_type": "code",
     "collapsed": false,
     "input": [],
     "language": "python",
     "metadata": {},
     "outputs": []
    }
   ],
   "metadata": {}
  }
 ]
}