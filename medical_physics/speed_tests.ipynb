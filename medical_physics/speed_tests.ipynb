{
 "metadata": {
  "name": "",
  "signature": "sha256:50484bbe00157a6e894cd35ed3b2092789a89199b0d8948c2267b2a7b2e4307f"
 },
 "nbformat": 3,
 "nbformat_minor": 0,
 "worksheets": [
  {
   "cells": [
    {
     "cell_type": "code",
     "collapsed": false,
     "input": [
      "import numpy as np\n",
      "from time import time"
     ],
     "language": "python",
     "metadata": {},
     "outputs": [],
     "prompt_number": 1
    },
    {
     "cell_type": "markdown",
     "metadata": {},
     "source": [
      "We're going to run some tests of how long certain things take and then you will try to make them faster. "
     ]
    },
    {
     "cell_type": "markdown",
     "metadata": {},
     "source": [
      "Let's do a basic loop."
     ]
    },
    {
     "cell_type": "code",
     "collapsed": false,
     "input": [
      "npts = 10000000\n",
      "\n",
      "# Generate the points.\n",
      "x = np.random.random(npts)\n",
      "\n",
      "# Time simple addition\n",
      "start = time()\n",
      "total = 0\n",
      "for i in xrange(npts):\n",
      "    total += x[i]\n",
      "print \"total: %f\" % (total)\n",
      "print \"Time to run: %f seconds\" % (time()-start) \n",
      "\n",
      "# Time simple addition\n",
      "start = time()\n",
      "total = 0\n",
      "for xpt in x:\n",
      "    total += xpt\n",
      "print \"total: %f\" % (total)\n",
      "print \"Time to run: %f seconds\" % (time()-start) "
     ],
     "language": "python",
     "metadata": {},
     "outputs": [
      {
       "output_type": "stream",
       "stream": "stdout",
       "text": [
        "total: 5000606.578648\n",
        "Time to run: 3.983265 seconds\n",
        "total: 5000606.578648"
       ]
      },
      {
       "output_type": "stream",
       "stream": "stdout",
       "text": [
        "\n",
        "Time to run: 3.965960 seconds\n"
       ]
      }
     ],
     "prompt_number": 2
    },
    {
     "cell_type": "code",
     "collapsed": false,
     "input": [
      "# Time trig\n",
      "start = time()\n",
      "total = 0\n",
      "for i in xrange(npts):\n",
      "    total += np.sin(x[i])\n",
      "print \"total: %f\" % (total)\n",
      "print \"Time to run: %f seconds\" % (time()-start) "
     ],
     "language": "python",
     "metadata": {},
     "outputs": [
      {
       "output_type": "stream",
       "stream": "stdout",
       "text": [
        "total: 4597515.125926\n",
        "Time to run: 19.420904 seconds\n"
       ]
      }
     ],
     "prompt_number": 3
    },
    {
     "cell_type": "code",
     "collapsed": false,
     "input": [
      "# Time trig - numpy\n",
      "start = time()\n",
      "total = 0\n",
      "total = (np.sin(x)).sum()\n",
      "print \"total: %f\" % (total)\n",
      "print \"Time to run: %f seconds\" % (time()-start) "
     ],
     "language": "python",
     "metadata": {},
     "outputs": [
      {
       "output_type": "stream",
       "stream": "stdout",
       "text": [
        "total: 4597515.125926\n",
        "Time to run: 0.333239 seconds\n"
       ]
      }
     ],
     "prompt_number": 4
    },
    {
     "cell_type": "code",
     "collapsed": false,
     "input": [
      "# This\n",
      "x_list = [0,1,2,3]\n",
      "\n",
      "# is different from this\n",
      "\n",
      "x_array = np.array([0,1,2,3])"
     ],
     "language": "python",
     "metadata": {},
     "outputs": [],
     "prompt_number": 5
    },
    {
     "cell_type": "code",
     "collapsed": false,
     "input": [
      "x_array.sum()\n"
     ],
     "language": "python",
     "metadata": {},
     "outputs": [
      {
       "metadata": {},
       "output_type": "pyout",
       "prompt_number": 6,
       "text": [
        "6"
       ]
      }
     ],
     "prompt_number": 6
    },
    {
     "cell_type": "code",
     "collapsed": false,
     "input": [
      "x_list.reverse()"
     ],
     "language": "python",
     "metadata": {},
     "outputs": [],
     "prompt_number": 7
    },
    {
     "cell_type": "code",
     "collapsed": false,
     "input": [
      "x_list"
     ],
     "language": "python",
     "metadata": {},
     "outputs": [
      {
       "metadata": {},
       "output_type": "pyout",
       "prompt_number": 8,
       "text": [
        "[3, 2, 1, 0]"
       ]
      }
     ],
     "prompt_number": 8
    },
    {
     "cell_type": "markdown",
     "metadata": {},
     "source": [
      "Your assignment: time the following for 10 million random points.\n",
      "\n",
      "In pure python: the length of time *per calculation* for addition, multiplication, division, sin, arcsin, log.\n",
      "\n",
      "Do the same for numpy. \n",
      "\n",
      "Don't worry about the sum part. "
     ]
    },
    {
     "cell_type": "code",
     "collapsed": false,
     "input": [
      "npts = 1000000\n",
      "# Time simple addition\n",
      "start = time()\n",
      "total = 0\n",
      "for xpt in x:\n",
      "    total += xpt\n",
      "print \"total: %f\" % (total)\n",
      "print \"Time per calculation for addition: %f seconds\" % ((time()-start)/npts) \n",
      "\n",
      "\n",
      "# Time simple multiplication\n",
      "start = time()\n",
      "total = 0\n",
      "for xpt in x:\n",
      "    total = total*xpt\n",
      "print \"total: %f\" % (total)\n",
      "print \"Time per calculation for multiplication: %f seconds\" % ((time()-start)/npts) \n",
      "\n",
      "\n",
      "# Time simple division\n",
      "start = time()\n",
      "total = 0\n",
      "for xpt in x:\n",
      "    total =  total/xpt\n",
      "print \"total: %f\" % (total)\n",
      "print \"Time per calculation for division: %f seconds\" % ((time()-start)/npts) \n",
      "\n",
      "\n",
      "# Time Sin\n",
      "start = time()\n",
      "total = 0\n",
      "for xpt in x:\n",
      "    total = np.sin(xpt)\n",
      "print \"total: %f\" % (total)\n",
      "print \"Time per calculation for Sin: %f seconds\" % ((time()-start)/npts) \n",
      "\n",
      "\n",
      "# Time ArcSin\n",
      "start = time()\n",
      "total = 0\n",
      "for xpt in x:\n",
      "    total = np.arcsin(xpt)\n",
      "print \"total: %f\" % (total)\n",
      "print \"Time per calculation for arcsin: %f seconds\" % ((time()-start)/npts) \n",
      "\n",
      "\n",
      "# Time Natural Log\n",
      "start = time()\n",
      "total = 0\n",
      "for xpt in x:\n",
      "    total = np.log(xpt)\n",
      "print \"total: %f\" % (total)\n",
      "print \"Time per calculation for ln: %f seconds\" % ((time()-start)/npts) \n"
     ],
     "language": "python",
     "metadata": {},
     "outputs": [
      {
       "output_type": "stream",
       "stream": "stdout",
       "text": [
        "total: 5000606.578648\n",
        "Time per calculation for addition: 0.000004 seconds\n",
        "total: 0.000000"
       ]
      },
      {
       "output_type": "stream",
       "stream": "stdout",
       "text": [
        "\n",
        "Time per calculation for multiplication: 0.000004 seconds\n",
        "total: 0.000000"
       ]
      },
      {
       "output_type": "stream",
       "stream": "stdout",
       "text": [
        "\n",
        "Time per calculation for division: 0.000004 seconds\n",
        "total: 0.633452"
       ]
      },
      {
       "output_type": "stream",
       "stream": "stdout",
       "text": [
        "\n",
        "Time per calculation for Sin: 0.000016 seconds\n",
        "total: 0.755985"
       ]
      },
      {
       "output_type": "stream",
       "stream": "stdout",
       "text": [
        "\n",
        "Time per calculation for arcsin: 0.000017 seconds\n",
        "total: -0.376869"
       ]
      },
      {
       "output_type": "stream",
       "stream": "stdout",
       "text": [
        "\n",
        "Time per calculation for ln: 0.000018 seconds\n"
       ]
      }
     ],
     "prompt_number": 9
    },
    {
     "cell_type": "markdown",
     "metadata": {},
     "source": [
      "See if you can use this to speed up your other code. "
     ]
    },
    {
     "cell_type": "code",
     "collapsed": false,
     "input": [
      "print x\n"
     ],
     "language": "python",
     "metadata": {},
     "outputs": [
      {
       "output_type": "stream",
       "stream": "stdout",
       "text": [
        "[ 0.88339375  0.83215251  0.30733347 ...,  0.84317195  0.0551142\n",
        "  0.68600599]\n"
       ]
      }
     ],
     "prompt_number": 10
    },
    {
     "cell_type": "code",
     "collapsed": false,
     "input": [
      "# Time simple addition\n",
      "start = time()\n",
      "total = 0\n",
      "total =(np.array(x)).sum()\n",
      "#print \"total: %f\" % (total)\n",
      "print \"Time per calculation for addition: %f seconds\" % ((time()-start)/npts) \n",
      "\n",
      "\n",
      "# Time simple multiplication\n",
      "start = time()\n",
      "total = 0\n",
      "total = np.multiply(total,x)\n",
      "#print \"total: %f\" % (total)\n",
      "print \"Time per calculation for multiplication: %f seconds\" % ((time()-start)/npts) \n",
      "\n",
      "\n",
      "# Time simple division\n",
      "start = time()\n",
      "total = 0\n",
      "total = np.divide(total,x)\n",
      "#print \"total: %f\" % (total)\n",
      "print \"Time per calculation for division: %f seconds\" % ((time()-start)/npts) \n",
      "\n",
      "\n",
      "# Time Sin\n",
      "start = time()\n",
      "total = 0\n",
      "total = np.sin(x)\n",
      "#print \"total: %f\" % (total)\n",
      "print \"Time per calculation for Sin: %f seconds\" % ((time()-start)/npts) \n",
      "\n",
      "\n",
      "# Time ArcSin\n",
      "start = time()\n",
      "total = 0\n",
      "total = np.arcsin(x)\n",
      "#print \"total: %f\" % (total)\n",
      "print \"Time per calculation for arcsin: %f seconds\" % ((time()-start)/npts) \n",
      "\n",
      "\n",
      "# Time Natural Log\n",
      "start = time()\n",
      "total = 0\n",
      "total = np.log(x)\n",
      "#print \"total: %f\" % (total)\n",
      "print \"Time per calculation for ln: %f seconds\" % ((time()-start)/npts) \n"
     ],
     "language": "python",
     "metadata": {},
     "outputs": [
      {
       "output_type": "stream",
       "stream": "stdout",
       "text": [
        "Time per calculation for addition: 0.000000 seconds\n",
        "Time per calculation for multiplication: 0.000000 seconds\n",
        "Time per calculation for division: 0.000000 seconds"
       ]
      },
      {
       "output_type": "stream",
       "stream": "stdout",
       "text": [
        "\n",
        "Time per calculation for Sin: 0.000000 seconds"
       ]
      },
      {
       "output_type": "stream",
       "stream": "stdout",
       "text": [
        "\n",
        "Time per calculation for arcsin: 0.000000 seconds"
       ]
      },
      {
       "output_type": "stream",
       "stream": "stdout",
       "text": [
        "\n",
        "Time per calculation for ln: 0.000000 seconds"
       ]
      },
      {
       "output_type": "stream",
       "stream": "stdout",
       "text": [
        "\n"
       ]
      }
     ],
     "prompt_number": 11
    },
    {
     "cell_type": "code",
     "collapsed": false,
     "input": [],
     "language": "python",
     "metadata": {},
     "outputs": [],
     "prompt_number": 11
    },
    {
     "cell_type": "code",
     "collapsed": false,
     "input": [],
     "language": "python",
     "metadata": {},
     "outputs": []
    }
   ],
   "metadata": {}
  }
 ]
}