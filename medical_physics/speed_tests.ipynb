{
 "metadata": {
  "name": "",
  "signature": "sha256:ac8f3caf2826601424372f9828f354563fd175fc7b5021cad24af0a54563d4ba"
 },
 "nbformat": 3,
 "nbformat_minor": 0,
 "worksheets": [
  {
   "cells": [
    {
     "cell_type": "code",
     "collapsed": false,
     "input": [
      "import numpy as np\n",
      "from time import time"
     ],
     "language": "python",
     "metadata": {},
     "outputs": [],
     "prompt_number": 1
    },
    {
     "cell_type": "markdown",
     "metadata": {},
     "source": [
      "We're going to run some tests of how long certain things take and then you will try to make them faster. "
     ]
    },
    {
     "cell_type": "markdown",
     "metadata": {},
     "source": [
      "Let's do a basic loop."
     ]
    },
    {
     "cell_type": "code",
     "collapsed": false,
     "input": [
      "npts = 1000000\n",
      "\n",
      "# Generate the points.\n",
      "x = np.random.random(npts)\n",
      "\n",
      "# Time simple addition\n",
      "start = time()\n",
      "total = 0\n",
      "for i in xrange(npts):\n",
      "    total += x[i]\n",
      "print \"total: %f\" % (total)\n",
      "time_python_sum = time()-start\n",
      "print \"Time to run: %f seconds\" % (time_python_sum) \n",
      "\n",
      "# Time simple addition\n",
      "start = time()\n",
      "total = 0\n",
      "for xpt in x: # Pure Python approach\n",
      "    total += xpt\n",
      "print \"total: %f\" % (total)\n",
      "print \"Time to run: %f seconds\" % (time()-start) \n",
      "\n",
      "# Time simple data access\n",
      "start = time()\n",
      "total = 0\n",
      "for xpt in x: # Pure Python approach\n",
      "    xpt\n",
      "print \"total: %f\" % (total)\n",
      "print \"Time to run: %f seconds\" % (time()-start) \n",
      "\n",
      "# Time simple addition\n",
      "start = time()\n",
      "total = x.sum()\n",
      "print \"total: %f\" % (total)\n",
      "time_numpy_sum = time()-start\n",
      "print \"Time to run: %f seconds\" % (time_numpy_sum)\n",
      "\n",
      "print\n",
      "\n",
      "print \"Speed up between python and numpy: %f\" % (time_python_sum/time_numpy_sum)"
     ],
     "language": "python",
     "metadata": {},
     "outputs": [
      {
       "output_type": "stream",
       "stream": "stdout",
       "text": [
        "total: 500308.568148\n",
        "Time to run: 0.470384 seconds\n",
        "total: 500308.568148"
       ]
      },
      {
       "output_type": "stream",
       "stream": "stdout",
       "text": [
        "\n",
        "Time to run: 0.344747 seconds\n",
        "total: 0.000000"
       ]
      },
      {
       "output_type": "stream",
       "stream": "stdout",
       "text": [
        "\n",
        "Time to run: 0.086064 seconds\n",
        "total: 500308.568148\n",
        "Time to run: 0.001791 seconds\n",
        "\n",
        "Speed up between python and numpy: 262.637646\n"
       ]
      }
     ],
     "prompt_number": 22
    },
    {
     "cell_type": "code",
     "collapsed": false,
     "input": [
      "# Time trig\n",
      "start = time()\n",
      "total = 0\n",
      "for i in xrange(npts):\n",
      "    total = np.sin(x[i])\n",
      "\n",
      "time_python_sin= time()-start\n",
      "print \"Time to run: %f seconds\" % (time_python_sin)\n",
      "\n",
      "\n"
     ],
     "language": "python",
     "metadata": {},
     "outputs": [
      {
       "output_type": "stream",
       "stream": "stdout",
       "text": [
        "Time to run: 1.503892 seconds\n"
       ]
      }
     ],
     "prompt_number": 23
    },
    {
     "cell_type": "code",
     "collapsed": false,
     "input": [
      "# Time trig - numpy\n",
      "start = time()\n",
      "total = 0\n",
      "total = (np.sin(x))\n",
      "time_numpy_sin= time()-start\n",
      "print \"Time to run: %f seconds\" % (time_numpy_sin)\n",
      "\n",
      "# Time log - numpy\n",
      "start = time()\n",
      "total = 0\n",
      "total = (np.log(x))\n",
      "time_numpy_log = time()-start\n",
      "print \"Time to run: %f seconds\" % (time_numpy_log)\n",
      "\n",
      "\n",
      "print \"Time per calculation.\\n\"\n",
      "print \"%-14s %8s %8s\" % (\"Calculation\",\"Python\",\"Numpy\")\n",
      "print \"%-14s %-2.6e %-2.6e\" % (\"sum\",time_python_sum/npts,time_numpy_sum/npts)\n",
      "print \"%-14s %-2.6e %-2.6e\" % (\"sin\",time_python_sin/npts,time_numpy_sin/npts)\n",
      "print \"%-14s %-2.6e %-2.6e\" % (\"arcsin\",0.0,time_numpy_log/npts)\n"
     ],
     "language": "python",
     "metadata": {},
     "outputs": [
      {
       "output_type": "stream",
       "stream": "stdout",
       "text": [
        "Time to run: 0.034480 seconds\n",
        "Time to run: 0.058006 seconds"
       ]
      },
      {
       "output_type": "stream",
       "stream": "stdout",
       "text": [
        "\n",
        "Time per calculation.\n",
        "\n",
        "Calculation      Python    Numpy\n",
        "sum            4.703841e-07 1.791000e-09\n",
        "sin            1.503892e-06 3.447986e-08\n",
        "arcsin         0.000000e+00 5.800605e-08\n"
       ]
      }
     ],
     "prompt_number": 29
    },
    {
     "cell_type": "code",
     "collapsed": false,
     "input": [
      "# This\n",
      "x_list = [0,1,2,3]\n",
      "\n",
      "# is different from this\n",
      "\n",
      "x_array = np.array([0,1,2,3])"
     ],
     "language": "python",
     "metadata": {},
     "outputs": [],
     "prompt_number": 30
    },
    {
     "cell_type": "code",
     "collapsed": false,
     "input": [
      "x_array.sum()\n"
     ],
     "language": "python",
     "metadata": {},
     "outputs": [
      {
       "metadata": {},
       "output_type": "pyout",
       "prompt_number": 31,
       "text": [
        "6"
       ]
      }
     ],
     "prompt_number": 31
    },
    {
     "cell_type": "code",
     "collapsed": false,
     "input": [
      "x_list.reverse()"
     ],
     "language": "python",
     "metadata": {},
     "outputs": [],
     "prompt_number": 32
    },
    {
     "cell_type": "code",
     "collapsed": false,
     "input": [
      "x_list"
     ],
     "language": "python",
     "metadata": {},
     "outputs": [
      {
       "metadata": {},
       "output_type": "pyout",
       "prompt_number": 33,
       "text": [
        "[3, 2, 1, 0]"
       ]
      }
     ],
     "prompt_number": 33
    },
    {
     "cell_type": "markdown",
     "metadata": {},
     "source": [
      "Your assignment: time the following for 10 million random points.\n",
      "\n",
      "In pure python: the length of time *per calculation* for addition, multiplication, division, sin, arcsin, log.\n",
      "\n",
      "Do the same for numpy. \n",
      "\n",
      "Don't worry about the sum part. "
     ]
    },
    {
     "cell_type": "code",
     "collapsed": false,
     "input": [
      "npts = 1000000\n",
      "# Time simple addition\n",
      "start = time()\n",
      "total = 0\n",
      "for xpt in x:\n",
      "    total += xpt\n",
      "print \"total: %e\" % (total)\n",
      "print \"Time per calculation for addition: %e seconds\" % ((time()-start)/npts) \n",
      "\n",
      "\n",
      "# Time simple multiplication\n",
      "start = time()\n",
      "total = 0\n",
      "for xpt in x:\n",
      "    total = total*xpt\n",
      "print \"total: %e\" % (total)\n",
      "print \"Time per calculation for multiplication: %e seconds\" % ((time()-start)/npts) \n",
      "\n",
      "\n",
      "# Time simple division\n",
      "start = time()\n",
      "total = 0\n",
      "for xpt in x:\n",
      "    total =  total/xpt\n",
      "print \"total: %e\" % (total)\n",
      "print \"Time per calculation for division: %e seconds\" % ((time()-start)/npts) \n",
      "\n",
      "\n",
      "# Time Sin\n",
      "start = time()\n",
      "total = 0\n",
      "for xpt in x:\n",
      "    total = np.sin(xpt)\n",
      "print \"total: %e\" % (total)\n",
      "print \"Time per calculation for Sin: %e seconds\" % ((time()-start)/npts) \n",
      "\n",
      "\n",
      "# Time ArcSin\n",
      "start = time()\n",
      "total = 0\n",
      "for xpt in x:\n",
      "    total = np.arcsin(xpt)\n",
      "print \"total: %e\" % (total)\n",
      "print \"Time per calculation for arcsin: %e seconds\" % ((time()-start)/npts) \n",
      "\n",
      "\n",
      "# Time Natural Log\n",
      "start = time()\n",
      "total = 0\n",
      "for xpt in x:\n",
      "    total = np.log(xpt)\n",
      "print \"total: %e\" % (total)\n",
      "print \"Time per calculation for ln: %e seconds\" % ((time()-start)/npts) \n"
     ],
     "language": "python",
     "metadata": {},
     "outputs": [
      {
       "output_type": "stream",
       "stream": "stdout",
       "text": [
        "total: 5.003086e+05\n",
        "Time per calculation for addition: 4.365470e-07 seconds\n",
        "total: 0.000000e+00"
       ]
      },
      {
       "output_type": "stream",
       "stream": "stdout",
       "text": [
        "\n",
        "Time per calculation for multiplication: 3.386040e-07 seconds\n",
        "total: 0.000000e+00"
       ]
      },
      {
       "output_type": "stream",
       "stream": "stdout",
       "text": [
        "\n",
        "Time per calculation for division: 3.254330e-07 seconds\n",
        "total: 4.342579e-01"
       ]
      },
      {
       "output_type": "stream",
       "stream": "stdout",
       "text": [
        "\n",
        "Time per calculation for Sin: 1.316575e-06 seconds\n",
        "total: 4.658857e-01"
       ]
      },
      {
       "output_type": "stream",
       "stream": "stdout",
       "text": [
        "\n",
        "Time per calculation for arcsin: 1.234160e-06 seconds\n",
        "total: -8.002552e-01"
       ]
      },
      {
       "output_type": "stream",
       "stream": "stdout",
       "text": [
        "\n",
        "Time per calculation for ln: 1.257244e-06 seconds\n"
       ]
      }
     ],
     "prompt_number": 37
    },
    {
     "cell_type": "markdown",
     "metadata": {},
     "source": [
      "See if you can use this to speed up your other code. "
     ]
    },
    {
     "cell_type": "code",
     "collapsed": false,
     "input": [
      "print x\n"
     ],
     "language": "python",
     "metadata": {},
     "outputs": [
      {
       "output_type": "stream",
       "stream": "stdout",
       "text": [
        "[ 0.96103578  0.27036981  0.32087033 ...,  0.89666659  0.78882706\n",
        "  0.44921429]\n"
       ]
      }
     ],
     "prompt_number": 38
    },
    {
     "cell_type": "code",
     "collapsed": false,
     "input": [
      "# Time simple addition\n",
      "start = time()\n",
      "total = 0\n",
      "total =(np.array(x)).sum()\n",
      "#print \"total: %f\" % (total)\n",
      "print \"Time per calculation for addition: %e seconds\" % ((time()-start)/npts) \n",
      "\n",
      "\n",
      "# Time simple multiplication\n",
      "start = time()\n",
      "total = 0\n",
      "total = np.multiply(total,x)\n",
      "#print \"total: %f\" % (total)\n",
      "print \"Time per calculation for multiplication: %e seconds\" % ((time()-start)/npts) \n",
      "\n",
      "\n",
      "# Time simple division\n",
      "start = time()\n",
      "total = 0\n",
      "total = np.divide(total,x)\n",
      "#print \"total: %f\" % (total)\n",
      "print \"Time per calculation for division: %e seconds\" % ((time()-start)/npts) \n",
      "\n",
      "\n",
      "# Time Sin\n",
      "start = time()\n",
      "total = 0\n",
      "total = np.sin(x)\n",
      "#print \"total: %f\" % (total)\n",
      "print \"Time per calculation for Sin: %e seconds\" % ((time()-start)/npts) \n",
      "\n",
      "\n",
      "# Time ArcSin\n",
      "start = time()\n",
      "total = 0\n",
      "total = np.arcsin(x)\n",
      "#print \"total: %f\" % (total)\n",
      "print \"Time per calculation for arcsin: %e seconds\" % ((time()-start)/npts) \n",
      "\n",
      "\n",
      "# Time Natural Log\n",
      "start = time()\n",
      "total = 0\n",
      "total = np.log(x)\n",
      "#print \"total: %f\" % (total)\n",
      "print \"Time per calculation for ln: %e seconds\" % ((time()-start)/npts) \n"
     ],
     "language": "python",
     "metadata": {},
     "outputs": [
      {
       "output_type": "stream",
       "stream": "stdout",
       "text": [
        "Time per calculation for addition: 6.006002e-09 seconds\n",
        "Time per calculation for multiplication: 2.582073e-09 seconds\n",
        "Time per calculation for division: 2.799988e-09 seconds\n",
        "Time per calculation for Sin: 3.079295e-08 seconds\n",
        "Time per calculation for arcsin: 3.102493e-08 seconds"
       ]
      },
      {
       "output_type": "stream",
       "stream": "stdout",
       "text": [
        "\n",
        "Time per calculation for ln: 4.905486e-08 seconds\n"
       ]
      }
     ],
     "prompt_number": 39
    },
    {
     "cell_type": "code",
     "collapsed": false,
     "input": [],
     "language": "python",
     "metadata": {},
     "outputs": [],
     "prompt_number": 11
    },
    {
     "cell_type": "code",
     "collapsed": false,
     "input": [],
     "language": "python",
     "metadata": {},
     "outputs": []
    }
   ],
   "metadata": {}
  }
 ]
}