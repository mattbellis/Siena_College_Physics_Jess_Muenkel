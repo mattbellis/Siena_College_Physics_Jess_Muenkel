{
 "metadata": {
  "name": "",
  "signature": "sha256:968ca1171b927bbdec2ed8c7e88405f45c6fd01c1fd85a9701d144c4e7892df0"
 },
 "nbformat": 3,
 "nbformat_minor": 0,
 "worksheets": [
  {
   "cells": [
    {
     "cell_type": "code",
     "collapsed": false,
     "input": [
      "import numpy as np\n",
      "from time import time"
     ],
     "language": "python",
     "metadata": {},
     "outputs": [],
     "prompt_number": 10
    },
    {
     "cell_type": "markdown",
     "metadata": {},
     "source": [
      "We're going to run some tests of how long certain things take and then you will try to make them faster. "
     ]
    },
    {
     "cell_type": "markdown",
     "metadata": {},
     "source": [
      "Let's do a basic loop."
     ]
    },
    {
     "cell_type": "code",
     "collapsed": false,
     "input": [
      "npts = 1000000\n",
      "\n",
      "# Generate the points.\n",
      "x = np.random.random(npts)\n",
      "\n",
      "# Time simple addition\n",
      "start = time()\n",
      "total = 0\n",
      "for i in xrange(npts):\n",
      "    total += x[i]\n",
      "print \"total: %f\" % (total)\n",
      "print \"Time to run: %f seconds\" % (time()-start) \n",
      "\n",
      "# Time simple addition\n",
      "start = time()\n",
      "total = 0\n",
      "for xpt in x:\n",
      "    total += xpt\n",
      "print \"total: %f\" % (total)\n",
      "print \"Time to run: %f seconds\" % (time()-start) "
     ],
     "language": "python",
     "metadata": {},
     "outputs": [
      {
       "output_type": "stream",
       "stream": "stdout",
       "text": [
        "total: 500620.712554\n",
        "Time to run: 0.411801 seconds\n",
        "total: 500620.712554"
       ]
      },
      {
       "output_type": "stream",
       "stream": "stdout",
       "text": [
        "\n",
        "Time to run: 0.312447 seconds\n"
       ]
      }
     ],
     "prompt_number": 12
    },
    {
     "cell_type": "code",
     "collapsed": false,
     "input": [
      "# Time trig\n",
      "start = time()\n",
      "total = 0\n",
      "for i in xrange(npts):\n",
      "    total += np.sin(x[i])\n",
      "print \"total: %f\" % (total)\n",
      "print \"Time to run: %f seconds\" % (time()-start) "
     ],
     "language": "python",
     "metadata": {},
     "outputs": [
      {
       "output_type": "stream",
       "stream": "stdout",
       "text": [
        "total: 460234.822116\n",
        "Time to run: 1.802253 seconds\n"
       ]
      }
     ],
     "prompt_number": 13
    },
    {
     "cell_type": "code",
     "collapsed": false,
     "input": [
      "# Time trig - numpy\n",
      "start = time()\n",
      "total = 0\n",
      "total = (np.sin(x)).sum()\n",
      "print \"total: %f\" % (total)\n",
      "print \"Time to run: %f seconds\" % (time()-start) "
     ],
     "language": "python",
     "metadata": {},
     "outputs": [
      {
       "output_type": "stream",
       "stream": "stdout",
       "text": [
        "total: 460234.822116\n",
        "Time to run: 0.344070 seconds\n"
       ]
      }
     ],
     "prompt_number": 15
    },
    {
     "cell_type": "code",
     "collapsed": false,
     "input": [
      "# This\n",
      "x_list = [0,1,2,3]\n",
      "\n",
      "# is different from this\n",
      "\n",
      "x_array = np.array([0,1,2,3])"
     ],
     "language": "python",
     "metadata": {},
     "outputs": [],
     "prompt_number": 16
    },
    {
     "cell_type": "code",
     "collapsed": false,
     "input": [
      "x_array.sum()\n"
     ],
     "language": "python",
     "metadata": {},
     "outputs": [
      {
       "metadata": {},
       "output_type": "pyout",
       "prompt_number": 18,
       "text": [
        "6"
       ]
      }
     ],
     "prompt_number": 18
    },
    {
     "cell_type": "code",
     "collapsed": false,
     "input": [
      "x_list.reverse()"
     ],
     "language": "python",
     "metadata": {},
     "outputs": [],
     "prompt_number": 19
    },
    {
     "cell_type": "code",
     "collapsed": false,
     "input": [
      "x_list"
     ],
     "language": "python",
     "metadata": {},
     "outputs": [
      {
       "metadata": {},
       "output_type": "pyout",
       "prompt_number": 20,
       "text": [
        "[3, 2, 1, 0]"
       ]
      }
     ],
     "prompt_number": 20
    },
    {
     "cell_type": "markdown",
     "metadata": {},
     "source": [
      "Your assignment: time the following for 10 million random points.\n",
      "\n",
      "In pure python: the length of time *per calculation* for addition, multiplication, division, sin, arcsin, log.\n",
      "\n",
      "Do the same for numpy. \n",
      "\n",
      "Don't worry about the sum part. "
     ]
    },
    {
     "cell_type": "code",
     "collapsed": false,
     "input": [
      "# Your code here. "
     ],
     "language": "python",
     "metadata": {},
     "outputs": [],
     "prompt_number": 21
    },
    {
     "cell_type": "markdown",
     "metadata": {},
     "source": [
      "See if you can use this to speed up your other code. "
     ]
    },
    {
     "cell_type": "code",
     "collapsed": false,
     "input": [],
     "language": "python",
     "metadata": {},
     "outputs": []
    }
   ],
   "metadata": {}
  }
 ]
}