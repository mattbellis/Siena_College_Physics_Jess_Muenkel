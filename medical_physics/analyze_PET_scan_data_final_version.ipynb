{
 "metadata": {
  "name": "",
  "signature": "sha256:73d8efc41f18b549f26cc15ad24903ff80a9766be30153180dfa8a2f3189837c"
 },
 "nbformat": 3,
 "nbformat_minor": 0,
 "worksheets": [
  {
   "cells": [
    {
     "cell_type": "markdown",
     "metadata": {},
     "source": [
      "Read the data in from the file <tt>PET_scan_data_0.dat</tt>. The file is in two columns and each entry in the file is the time (in nanoseconds) that a photon was detected and the detector that recorded it. "
     ]
    },
    {
     "cell_type": "markdown",
     "metadata": {},
     "source": [
      "The scanner is made up of 80 individual detectors. Detector 00 is at 3:00 (on the x-axis) and increases in the counter-clockwise direction, a la the standard definition of $\\theta$."
     ]
    },
    {
     "cell_type": "code",
     "collapsed": false,
     "input": [
      "#time,detector=loadtxt(\"PET_scan_data_0.dat\",unpack=True)\n",
      "\n",
      "import numpy as np\n",
      "from time import time\n",
      "\n",
      "import matplotlib.pylab as plt\n",
      "\n",
      "#%matplotlib inline\n",
      "%matplotlib qt\n",
      "\n",
      "from numpy import *\n",
      "Time,detector=loadtxt(\"PET_scan_data_0.dat\",unpack=True)\n",
      "\n",
      "#detector"
     ],
     "language": "python",
     "metadata": {},
     "outputs": [],
     "prompt_number": 14
    },
    {
     "cell_type": "markdown",
     "metadata": {},
     "source": [
      "The radius of the detector ring is 1 meter."
     ]
    },
    {
     "cell_type": "code",
     "collapsed": false,
     "input": [
      "radius = 1 # meters"
     ],
     "language": "python",
     "metadata": {},
     "outputs": [],
     "prompt_number": 15
    },
    {
     "cell_type": "markdown",
     "metadata": {},
     "source": [
      "Make a histogram of the timing information. "
     ]
    },
    {
     "cell_type": "code",
     "collapsed": false,
     "input": [
      "#print time\n",
      "#h=plt.hist(Time,bins=80)\n",
      "#plt.ylabel(\"Frequency\")\n",
      "#plt.xlabel(\"Detector Timing\")"
     ],
     "language": "python",
     "metadata": {},
     "outputs": [],
     "prompt_number": 16
    },
    {
     "cell_type": "markdown",
     "metadata": {},
     "source": [
      "Write a function that takes in the number of the detector and returns the angle at which the detector is located, as well as the x and y coordinates for the detector element."
     ]
    },
    {
     "cell_type": "code",
     "collapsed": false,
     "input": [
      "def detector2coordinates(detector):\n",
      "    theta=[]\n",
      "    x=[]\n",
      "    y=[]\n",
      "    detector=np.array(detector)\n",
      "    \n",
      "    theta=detector*2*math.pi/80\n",
      "    x=np.cos(theta)*radius\n",
      "    y=np.sin(theta)*radius\n",
      "    \n",
      "    '''for i in range(0,len(detector)):\n",
      "        \n",
      "        angle=detector[i]*2*math.pi/80\n",
      "        theta.append(angle)\n",
      "        x.append(radius*math.cos(angle))\n",
      "        y.append(radius*math.sin(angle))'''\n",
      "    \n",
      "    return theta,x,y\n",
      "theta,x,y=detector2coordinates(detector)\n",
      "\n",
      "print x"
     ],
     "language": "python",
     "metadata": {},
     "outputs": [
      {
       "output_type": "stream",
       "stream": "stdout",
       "text": [
        "[ 0.80901699 -0.80901699 -0.85264016 ..., -0.76040597  0.76040597\n",
        " -0.76040597]\n"
       ]
      }
     ],
     "prompt_number": 17
    },
    {
     "cell_type": "markdown",
     "metadata": {},
     "source": [
      "Assume a 10 ns window, and find correlated pairs of photons. How many pairs of photons do you find? How many times do you have more than two photons in a timing window?"
     ]
    },
    {
     "cell_type": "code",
     "collapsed": false,
     "input": [
      "#detector2coordinates([60])\n"
     ],
     "language": "python",
     "metadata": {},
     "outputs": [],
     "prompt_number": 18
    },
    {
     "cell_type": "code",
     "collapsed": false,
     "input": [
      "detector0 = []\n",
      "detector1 = []\n",
      "start = time()\n",
      "more_than_two=0\n",
      "t=100\n",
      "\n",
      "for i in range(0,t):\n",
      "    num_pairs = 0\n",
      "    for j in range(i+1,t):\n",
      "        ### LONGER####if abs(np.subtract(Time[i],Time[j]))<=10:\n",
      "        if abs(Time[i]-Time[j])<=10:\n",
      "            detector0.append([x[i],y[i]])\n",
      "            detector1.append([x[j],y[j]])\n",
      "            num_pairs += 1\n",
      "    if num_pairs>1:\n",
      "        more_than_two=more_than_two+1\n",
      "            \n",
      "print \"The number of pairs is %d\" % (len(detector0))\n",
      "print \"The number of more than two photons \"+str(more_than_two)\n",
      "print \"Time to run: %f seconds\" % (time()-start)\n",
      "\n",
      "#########20000 will take about 160 seconds\n",
      "\n",
      "print detector0[0:5]\n",
      "print detector1[0:5]"
     ],
     "language": "python",
     "metadata": {},
     "outputs": [
      {
       "output_type": "stream",
       "stream": "stdout",
       "text": [
        "The number of pairs is 49\n",
        "The number of more than two photons 0\n",
        "Time to run: 0.012105 seconds\n",
        "[[0.80901699437494734, -0.58778525229247336], [-0.85264016435409207, -0.52249856471594913], [1.0, 0.0], [0.98768834059513766, -0.15643446504023109], [-0.99691733373312796, 0.078459095727845068]]\n",
        "[[-0.80901699437494734, 0.58778525229247325], [0.85264016435409218, 0.5224985647159488], [-1.0, 1.2246467991473532e-16], [-0.98768834059513766, 0.15643446504023098], [0.99691733373312796, -0.078459095727844749]]\n"
       ]
      }
     ],
     "prompt_number": 19
    },
    {
     "cell_type": "code",
     "collapsed": false,
     "input": [
      "detector0 = []\n",
      "detector1 = []\n",
      "start = time()\n",
      "more_than_two=0\n",
      "t=1000\n",
      "\n",
      "nentries = len(Time)\n",
      "\n",
      "Time = Time[0:t]\n",
      "x = x[0:t]\n",
      "y = y[0:t]\n",
      "\n",
      "print \"nentries: %d\" % (nentries)\n",
      "\n",
      "index = np.zeros(t,dtype=int)\n",
      "\n",
      "#print index\n",
      "\n",
      "for i in xrange(t-1):\n",
      "    #print i\n",
      "    diff = np.abs(Time[i]-Time[i+1:])\n",
      "    \n",
      "    diff_index = diff<10\n",
      "    \n",
      "    index *= 0\n",
      "    index[i+1:] = diff_index\n",
      "    \n",
      "    #print index\n",
      "    #print diff\n",
      "    #break\n",
      "    num_pairs = len(diff[diff_index])\n",
      "    index = index.astype(bool)\n",
      "    \n",
      "    #print index\n",
      "    #print x[index]\n",
      "    for xpt,ypt in zip(x[index],y[index]):\n",
      "        #print xpt,ypt\n",
      "        detector1.append([xpt,ypt])\n",
      "        detector0.append([x[i],y[i]])\n",
      "        \n",
      "    if num_pairs>1:\n",
      "        more_than_two=more_than_two+1\n",
      "            \n",
      "print \"The number of pairs is %d\" % (len(detector0))\n",
      "print \"The number of more than two photons \"+str(more_than_two)\n",
      "print \"Time to run: %f seconds\" % (time()-start)\n",
      "\n",
      "#########20000 will take about 160 seconds\n",
      "\n",
      "#detector0[0:5]\n",
      "print detector0[0:5]\n",
      "print detector1[0:5]"
     ],
     "language": "python",
     "metadata": {},
     "outputs": [
      {
       "output_type": "stream",
       "stream": "stdout",
       "text": [
        "nentries: 20000\n",
        "The number of pairs is 487\n",
        "The number of more than two photons 0\n",
        "Time to run: 0.049001 seconds\n",
        "[[0.80901699437494734, -0.58778525229247336], [-0.85264016435409207, -0.52249856471594913], [1.0, 0.0], [0.98768834059513766, -0.15643446504023109], [-0.99691733373312796, 0.078459095727845068]]\n",
        "[[-0.80901699437494734, 0.58778525229247325], [0.85264016435409218, 0.5224985647159488], [-1.0, 1.2246467991473532e-16], [-0.98768834059513766, 0.15643446504023098], [0.99691733373312796, -0.078459095727844749]]\n"
       ]
      }
     ],
     "prompt_number": 20
    },
    {
     "cell_type": "markdown",
     "metadata": {},
     "source": [
      "For the first 20 pairs, make a plot showing the positions of the detecors hit by each pair and the line joining them."
     ]
    },
    {
     "cell_type": "code",
     "collapsed": false,
     "input": [
      "fig = plt.figure()\n",
      "ax = fig.gca()\n",
      "\n",
      "z=np.linspace(-1.,1.,50)\n",
      "xc = []\n",
      "yc = []\n",
      "for i in z:\n",
      "    yc.append(math.sqrt(1-i**2))\n",
      "    yc.append(-math.sqrt(1-i**2))\n",
      "    xc.append(i)\n",
      "    xc.append(i)\n",
      "    \n",
      "plt.plot(xc,yc)\n",
      "    \n",
      "plt.ylim(-1,1)\n",
      "plt.xlim(-1,1)\n",
      "\n",
      "for i in range(0,5):\n",
      "    plt.cla()\n",
      "\n",
      "    plt.plot(xc,yc)\n",
      "\n",
      "    plt.plot([detector0[i][0],detector1[i][0]],[detector0[i][1],detector1[i][1]])\n",
      "    plt.pause(0.1)\n",
      "    \n",
      "    \n"
     ],
     "language": "python",
     "metadata": {},
     "outputs": [],
     "prompt_number": 21
    },
    {
     "cell_type": "code",
     "collapsed": false,
     "input": [],
     "language": "python",
     "metadata": {},
     "outputs": [],
     "prompt_number": 52
    },
    {
     "cell_type": "code",
     "collapsed": false,
     "input": [],
     "language": "python",
     "metadata": {},
     "outputs": []
    }
   ],
   "metadata": {}
  }
 ]
}