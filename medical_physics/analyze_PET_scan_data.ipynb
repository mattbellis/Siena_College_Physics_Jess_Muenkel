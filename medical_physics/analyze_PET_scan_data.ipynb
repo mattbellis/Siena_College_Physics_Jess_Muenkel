{
 "metadata": {
  "name": "",
  "signature": "sha256:9aabb527cb93a52555cacc03af2f3100289c744d0dccbffbb0befbe0bf25c765"
 },
 "nbformat": 3,
 "nbformat_minor": 0,
 "worksheets": [
  {
   "cells": [
    {
     "cell_type": "markdown",
     "metadata": {},
     "source": [
      "Read the data in from the file <tt>PET_scan_data_0.dat</tt>. The file is in two columns and each entry in the file is the time (in nanoseconds) that a photon was detected and the detector that recorded it. "
     ]
    },
    {
     "cell_type": "markdown",
     "metadata": {},
     "source": [
      "The scanner is made up of 80 individual detectors. Detector 00 is at 3:00 (on the x-axis) and increases in the counter-clockwise direction, a la the standard definition of $\\theta$."
     ]
    },
    {
     "cell_type": "markdown",
     "metadata": {},
     "source": [
      "The radius of the detector ring is 1 meter."
     ]
    },
    {
     "cell_type": "code",
     "collapsed": false,
     "input": [
      "radius = 1 # meters"
     ],
     "language": "python",
     "metadata": {},
     "outputs": [],
     "prompt_number": 1
    },
    {
     "cell_type": "markdown",
     "metadata": {},
     "source": [
      "Make a histogram of the timing information. "
     ]
    },
    {
     "cell_type": "code",
     "collapsed": false,
     "input": [
      "# Your code here. "
     ],
     "language": "python",
     "metadata": {},
     "outputs": [],
     "prompt_number": 2
    },
    {
     "cell_type": "markdown",
     "metadata": {},
     "source": [
      "Write a function that takes in the number of the detector and returns the angle at which the detector is located, as well as the x and y coordinates for the detector element."
     ]
    },
    {
     "cell_type": "code",
     "collapsed": false,
     "input": [
      "# Your code here\n",
      "def detector2coordinates(detector):\n",
      "    \n",
      "    theta = None\n",
      "    x = None\n",
      "    y = None\n",
      "    \n",
      "    # Here is where you do the conversion.\n",
      "    \n",
      "    return theta,x,y"
     ],
     "language": "python",
     "metadata": {},
     "outputs": [],
     "prompt_number": 3
    },
    {
     "cell_type": "markdown",
     "metadata": {},
     "source": [
      "Assume a 10 ns window, and find correlated pairs of photons. How many pairs of photons do you find? How many times do you have more than two photons in a timing window?"
     ]
    },
    {
     "cell_type": "code",
     "collapsed": false,
     "input": [
      "# Your code and answers here. "
     ],
     "language": "python",
     "metadata": {},
     "outputs": [],
     "prompt_number": 4
    },
    {
     "cell_type": "markdown",
     "metadata": {},
     "source": [
      "For the first 20 pairs, make a plot showing the positions of the detecors hit by each pair and the line joining them."
     ]
    },
    {
     "cell_type": "code",
     "collapsed": false,
     "input": [
      "# Your code here. "
     ],
     "language": "python",
     "metadata": {},
     "outputs": [],
     "prompt_number": 5
    },
    {
     "cell_type": "code",
     "collapsed": false,
     "input": [],
     "language": "python",
     "metadata": {},
     "outputs": []
    }
   ],
   "metadata": {}
  }
 ]
}