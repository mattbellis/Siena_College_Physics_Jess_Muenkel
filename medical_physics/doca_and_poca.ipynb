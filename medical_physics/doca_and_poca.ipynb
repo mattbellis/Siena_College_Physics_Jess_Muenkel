{
 "metadata": {
  "name": "",
  "signature": "sha256:2affd623157c7e7686394683cf66c2035c714f41cd335c10291eb99079541fd0"
 },
 "nbformat": 3,
 "nbformat_minor": 0,
 "worksheets": [
  {
   "cells": [
    {
     "cell_type": "markdown",
     "metadata": {},
     "source": [
      "In this exercise, we're going to calculate the distance of closest approach (DOCA) and point of closest approach (POCA) for two arbitrary lines. "
     ]
    },
    {
     "cell_type": "markdown",
     "metadata": {},
     "source": [
      "We define a line by giving the $(x,y,z)$ coordinates for the endpoints, or at least two points on the line. "
     ]
    },
    {
     "cell_type": "code",
     "collapsed": false,
     "input": [
      "import numpy as np\n",
      "import math"
     ],
     "language": "python",
     "metadata": {},
     "outputs": [],
     "prompt_number": 1
    },
    {
     "cell_type": "code",
     "collapsed": false,
     "input": [
      "def doca_poca_B(line0,line1):\n",
      "    \n",
      "    doca = -999.\n",
      "    poca = np.array([[-999.,-998.,-997.],[-996.,-995.,-994.],[-993.,-992.,-991.]])\n",
      "    #the two points on the lines and the point in the middle of the two lines that minimizes the distance between them\n",
      "    \n",
      "    P1 = line0[1]\n",
      "    P2 = line1[1]\n",
      "\n",
      "    v0 = line0[1] - line0[0]\n",
      "    v1 = line1[1] - line1[0]\n",
      "    \n",
      "    n = np.cross(v0,v1)\n",
      "    \n",
      "    P1P2 = P2 - P1\n",
      "    \n",
      "    numerator = 0\n",
      "    for a,b in zip(P1P2,n):\n",
      "        numerator += a*b\n",
      "        \n",
      "    denominator = 0\n",
      "    for a in n:\n",
      "        denominator += a*a\n",
      "    denominator = np.sqrt(denominator)\n",
      "    \n",
      "    doca = numerator/denominator\n",
      "    \n",
      "    return doca,poca\n",
      "    "
     ],
     "language": "python",
     "metadata": {},
     "outputs": [],
     "prompt_number": 2
    },
    {
     "cell_type": "code",
     "collapsed": false,
     "input": [
      "############ Here is where you will want to add the function\n",
      "\n",
      "\n",
      "def doca_poca(line0,line1):\n",
      "    \n",
      "    doca = -999.\n",
      "    poca = np.array([[-999.,-998.,-997.],[-996.,-995.,-994.],[-993.,-992.,-991.]])\n",
      "    #the two points on the lines and the point in the middle of the two lines that minimizes the distance between them\n",
      "\n",
      "    x1=line0[1][0]-line0[0][0]\n",
      "    y1=line0[1][1]-line0[0][1]\n",
      "    z1=line0[1][2]-line0[0][2]\n",
      "    \n",
      "    x2=line1[1][0]-line1[0][0]\n",
      "    y2=line1[1][1]-line1[0][1]\n",
      "    z2=line1[1][2]-line1[0][2]\n",
      "    \n",
      "    t=np.linspace(0,1,100)\n",
      "    distance=999.\n",
      "    i=0\n",
      "    time=0\n",
      "    for dt0 in t:\n",
      "        for dt1 in t:\n",
      "\n",
      "            #set up parametric equations\n",
      "            x_eq1=line0[0][0]+dt0*x1\n",
      "            y_eq1=line0[0][1]+dt0*y1\n",
      "            z_eq1=line0[0][2]+dt0*z1\n",
      "\n",
      "            x_eq2=line1[0][0]+dt1*x2\n",
      "            y_eq2=line1[0][1]+dt1*y2\n",
      "            z_eq2=line1[0][2]+dt1*z2\n",
      "\n",
      "            #compute the distance between the two points\n",
      "            length=math.sqrt((x_eq1-x_eq2)**2+(y_eq1-y_eq2)**2+(z_eq1-z_eq2)**2)\n",
      "\n",
      "            #save the distance and points if it is shorter than that last \n",
      "            if length<distance:\n",
      "                distance=length\n",
      "                poca[0][0]=x_eq1\n",
      "                poca[1][0]=x_eq2\n",
      "                poca[0][1]=y_eq1\n",
      "                poca[1][1]=y_eq2\n",
      "                poca[0][2]=z_eq1\n",
      "                poca[1][2]=z_eq2\n",
      "\n",
      "    \n",
      "    doca=distance\n",
      "    #midpoint between the two closest points \n",
      "    poca[2][0]=(poca[0][0]+poca[1][0])/2.\n",
      "    poca[2][1]=(poca[0][1]+poca[1][1])/2.\n",
      "    poca[2][2]=(poca[0][2]+poca[1][2])/2.\n",
      "    \n",
      "\n",
      "    \n",
      "    return doca,poca\n",
      "    "
     ],
     "language": "python",
     "metadata": {},
     "outputs": [],
     "prompt_number": 3
    },
    {
     "cell_type": "code",
     "collapsed": false,
     "input": [
      "point00 = np.array([-5.,0.,0.])\n",
      "point01 = np.array([5.,0.,0.])\n",
      "\n",
      "line0 = np.array([point00,point01])\n",
      "\n",
      "print line0\n",
      "\n",
      "\n",
      "point10 = np.array([0.,1.,5.])\n",
      "point11 = np.array([0.,1.,-5.])\n",
      "\n",
      "line1 = np.array([point10,point11])\n",
      "\n",
      "# THIS IS WHERE YOU CALL YOUR FUNCTION\n",
      "\n",
      "doca,poca = doca_poca(line0,line1)\n",
      "\n",
      "print \"Doca and poca:\"\n",
      "print doca\n",
      "print poca\n",
      "\n",
      "docaB,pocaB = doca_poca_B(line0,line1)\n",
      "\n",
      "print \"Doca and poca B:\"\n",
      "print docaB\n",
      "print pocaB"
     ],
     "language": "python",
     "metadata": {},
     "outputs": [
      {
       "output_type": "stream",
       "stream": "stdout",
       "text": [
        "[[-5.  0.  0.]\n",
        " [ 5.  0.  0.]]\n",
        "Doca and poca:"
       ]
      },
      {
       "output_type": "stream",
       "stream": "stdout",
       "text": [
        "\n",
        "1.00254751521\n",
        "[[-0.05050505  0.          0.        ]\n",
        " [ 0.          1.          0.05050505]\n",
        " [-0.02525253  0.5         0.02525253]]\n",
        "Doca and poca B:\n",
        "1.0\n",
        "[[-999. -998. -997.]\n",
        " [-996. -995. -994.]\n",
        " [-993. -992. -991.]]\n"
       ]
      }
     ],
     "prompt_number": 4
    },
    {
     "cell_type": "code",
     "collapsed": false,
     "input": [
      "import matplotlib as mpl\n",
      "from mpl_toolkits.mplot3d import Axes3D\n",
      "import matplotlib.pyplot as plt\n",
      "\n",
      "# Uncomment this if you want the graphs to pop out and be interactive\n",
      "%pylab qt"
     ],
     "language": "python",
     "metadata": {},
     "outputs": [
      {
       "output_type": "stream",
       "stream": "stdout",
       "text": [
        "Populating the interactive namespace from numpy and matplotlib\n"
       ]
      }
     ],
     "prompt_number": 5
    },
    {
     "cell_type": "code",
     "collapsed": false,
     "input": [
      "fig = plt.figure()\n",
      "ax = fig.gca(projection='3d')\n",
      "\n",
      "line_for_plotting = line0.transpose()\n",
      "print line_for_plotting\n",
      "\n",
      "plt.plot(line_for_plotting[0],line_for_plotting[1],line_for_plotting[2])\n",
      "\n",
      "\n",
      "line_for_plotting = line1.transpose()\n",
      "print line_for_plotting\n",
      "\n",
      "l0 = point00-point01\n",
      "l1 = poca[1]-poca[0]\n",
      "\n",
      "magl0 = np.sqrt(l0[0]*l0[0] + l0[1]*l0[1] + l0[2]*l0[2])\n",
      "magl1 = np.sqrt(l1[0]*l1[0] + l1[1]*l1[1] + l1[2]*l1[2])\n",
      "\n",
      "dotproduct = l0[0]*l1[0] + l0[1]*l1[1] + l0[2]*l1[2] \n",
      "\n",
      "print magl0,magl1,dotproduct\n",
      "\n",
      "print np.rad2deg(np.arccos(dotproduct/(magl0*magl1)))\n",
      "\n",
      "plt.plot(line_for_plotting[0],line_for_plotting[1],line_for_plotting[2])\n",
      "\n",
      "# Plot the points from poca: line connecting point on each line closest and mid-point. \n",
      "line_for_plotting = poca[0:2].transpose()\n",
      "print line_for_plotting\n",
      "plt.plot(line_for_plotting[0],line_for_plotting[1],line_for_plotting[2])\n",
      "ax.scatter(poca[2][0],poca[2][1],poca[2][2],s=10)\n",
      "\n",
      "\n",
      "\n",
      "ax.set_xlim(-5,5)\n",
      "ax.set_ylim(-5,5)\n",
      "ax.set_zlim(-5,5)"
     ],
     "language": "python",
     "metadata": {},
     "outputs": [
      {
       "output_type": "stream",
       "stream": "stdout",
       "text": [
        "[[-5.  5.]\n",
        " [ 0.  0.]\n",
        " [ 0.  0.]]\n",
        "[[ 0.  0.]\n",
        " [ 1.  1.]\n",
        " [ 5. -5.]]\n",
        "10.0 1.00254751521 -0.505050505051\n",
        "92.8875954009\n",
        "[[-0.05050505  0.        ]\n",
        " [ 0.          1.        ]\n",
        " [ 0.          0.05050505]]\n"
       ]
      },
      {
       "metadata": {},
       "output_type": "pyout",
       "prompt_number": 6,
       "text": [
        "(-5, 5)"
       ]
      }
     ],
     "prompt_number": 6
    },
    {
     "cell_type": "code",
     "collapsed": false,
     "input": [
      "point00 = 5*np.random.random((3))\n",
      "point01 = 5*np.random.random((3))\n",
      "\n",
      "line0 = np.array([point00,point01])\n",
      "\n",
      "print line0\n",
      "\n",
      "point10 = 5*np.random.random((3))\n",
      "point11 = 5*np.random.random((3))\n",
      "\n",
      "line1 = np.array([point10,point11])\n",
      "\n",
      "doca,poca = doca_poca(line0,line1)\n",
      "\n",
      "print \"Doca and poca:\"\n",
      "print doca\n",
      "print poca\n",
      "\n",
      "docaB,pocaB = doca_poca_B(line0,line1)\n",
      "\n",
      "print \"Doca and poca B:\"\n",
      "print docaB\n",
      "print pocaB"
     ],
     "language": "python",
     "metadata": {},
     "outputs": [
      {
       "output_type": "stream",
       "stream": "stdout",
       "text": [
        "[[ 1.53895942  1.11810537  1.38733503]\n",
        " [ 1.63853377  4.12111875  1.21276665]]\n",
        "Doca and poca:"
       ]
      },
      {
       "output_type": "stream",
       "stream": "stdout",
       "text": [
        "\n",
        "1.44882630664\n",
        "[[ 1.58723789  2.57411186  1.30269582]\n",
        " [ 3.03344296  2.52879004  1.37709019]\n",
        " [ 2.31034043  2.55145095  1.339893  ]]\n",
        "Doca and poca B:\n",
        "-1.43343045062\n",
        "[[-999. -998. -997.]\n",
        " [-996. -995. -994.]\n",
        " [-993. -992. -991.]]\n"
       ]
      }
     ],
     "prompt_number": 7
    },
    {
     "cell_type": "code",
     "collapsed": false,
     "input": [
      "fig1 = plt.figure()\n",
      "ax1 = fig1.gca(projection='3d')\n",
      "\n",
      "line_for_plotting = line0.transpose()\n",
      "print line_for_plotting\n",
      "\n",
      "plt.plot(line_for_plotting[0],line_for_plotting[1],line_for_plotting[2])\n",
      "\n",
      "line_for_plotting = line1.transpose()\n",
      "print line_for_plotting\n",
      "plt.plot(line_for_plotting[0],line_for_plotting[1],line_for_plotting[2])\n",
      "\n",
      "# Plot the points from poca: line connecting point on each line closest and mid-point. \n",
      "line_for_plotting = poca[0:2].transpose()\n",
      "print line_for_plotting\n",
      "plt.plot(line_for_plotting[0],line_for_plotting[1],line_for_plotting[2])\n",
      "ax1.scatter(poca[2][0],poca[2][1],poca[2][2],s=10)\n",
      "\n",
      "ax1.set_xlim(-5,5)\n",
      "ax1.set_ylim(-5,5)\n",
      "ax1.set_zlim(-5,5)"
     ],
     "language": "python",
     "metadata": {},
     "outputs": [
      {
       "output_type": "stream",
       "stream": "stdout",
       "text": [
        "[[ 1.53895942  1.63853377]\n",
        " [ 1.11810537  4.12111875]\n",
        " [ 1.38733503  1.21276665]]\n",
        "[[  3.03344296e+00   3.34328198e+00]\n",
        " [  2.52879004e+00   4.16328861e+00]\n",
        " [  1.37709019e+00   1.27030671e-03]]\n",
        "[[ 1.58723789  3.03344296]\n",
        " [ 2.57411186  2.52879004]\n",
        " [ 1.30269582  1.37709019]]\n"
       ]
      },
      {
       "metadata": {},
       "output_type": "pyout",
       "prompt_number": 8,
       "text": [
        "(-5, 5)"
       ]
      }
     ],
     "prompt_number": 8
    },
    {
     "cell_type": "code",
     "collapsed": false,
     "input": [
      "l0 = point00-point01\n",
      "l1 = poca[1]-poca[0]\n",
      "\n",
      "magl0 = np.sqrt(l0[0]*l0[0] + l0[1]*l0[1] + l0[2]*l0[2])\n",
      "magl1 = np.sqrt(l1[0]*l1[0] + l1[1]*l1[1] + l1[2]*l1[2])\n",
      "\n",
      "dotproduct = l0[0]*l1[0] + l0[1]*l1[1] + l0[2]*l1[2] \n",
      "\n",
      "print magl0,magl1,dotproduct\n",
      "\n",
      "print np.rad2deg(np.arccos(dotproduct/(magl0*magl1)))\n"
     ],
     "language": "python",
     "metadata": {},
     "outputs": [
      {
       "output_type": "stream",
       "stream": "stdout",
       "text": [
        "3.00973064059 1.44882630664 0.0050840020218\n",
        "89.9331987648\n"
       ]
      }
     ],
     "prompt_number": 9
    },
    {
     "cell_type": "code",
     "collapsed": false,
     "input": [],
     "language": "python",
     "metadata": {},
     "outputs": [],
     "prompt_number": 9
    },
    {
     "cell_type": "code",
     "collapsed": false,
     "input": [],
     "language": "python",
     "metadata": {},
     "outputs": [],
     "prompt_number": 9
    },
    {
     "cell_type": "code",
     "collapsed": false,
     "input": [],
     "language": "python",
     "metadata": {},
     "outputs": [],
     "prompt_number": 9
    },
    {
     "cell_type": "code",
     "collapsed": false,
     "input": [],
     "language": "python",
     "metadata": {},
     "outputs": [],
     "prompt_number": 9
    },
    {
     "cell_type": "code",
     "collapsed": false,
     "input": [],
     "language": "python",
     "metadata": {},
     "outputs": []
    }
   ],
   "metadata": {}
  }
 ]
}