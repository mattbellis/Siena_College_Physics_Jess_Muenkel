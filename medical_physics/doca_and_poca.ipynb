{
 "metadata": {
  "name": "",
  "signature": "sha256:a4225be69de75379892056708e6f9b765b60a97329d3f4395102dad284053603"
 },
 "nbformat": 3,
 "nbformat_minor": 0,
 "worksheets": [
  {
   "cells": [
    {
     "cell_type": "markdown",
     "metadata": {},
     "source": [
      "In this exercise, we're going to calculate the distance of closest approach (DOCA) and point of closest approach (POCA) for two arbitrary lines. "
     ]
    },
    {
     "cell_type": "markdown",
     "metadata": {},
     "source": [
      "We define a line by giving the $(x,y,z)$ coordinates for the endpoints, or at least two points on the line. "
     ]
    },
    {
     "cell_type": "code",
     "collapsed": false,
     "input": [
      "import numpy as np\n",
      "import math"
     ],
     "language": "python",
     "metadata": {},
     "outputs": [],
     "prompt_number": 1
    },
    {
     "cell_type": "code",
     "collapsed": false,
     "input": [
      "############ Here is where you will want to add the function\n",
      "\n",
      "\n",
      "def doca_poca(line0,line1):\n",
      "    \n",
      "    doca = -999.\n",
      "    poca = np.array([[-999.,-998.,-997.],[-996.,-995.,-994.],[-993.,-992.,-991.]])\n",
      "    #the two points on the lines and the point in the middle of the two lines that minimizes the distance between them\n",
      "\n",
      "    \n",
      "    \n",
      "    x1=line0[1][0]-line0[0][0]\n",
      "    y1=line0[1][1]-line0[0][1]\n",
      "    z1=line0[1][2]-line0[0][2]\n",
      "    \n",
      "    x2=line1[1][0]-line1[0][0]\n",
      "    y2=line1[1][1]-line1[0][1]\n",
      "    z2=line1[1][2]-line1[0][2]\n",
      "    \n",
      "    t=np.linspace(-5,5,20000)\n",
      "    distance=999.\n",
      "    i=0\n",
      "    time=0\n",
      "    while i<len(t):\n",
      "\n",
      "        #set up parametric equations\n",
      "        x_eq1=line0[0][0]+t[i]*x1\n",
      "        y_eq1=line0[0][1]+t[i]*y1\n",
      "        z_eq1=line0[0][2]+t[i]*z1\n",
      "    \n",
      "        x_eq2=line1[0][0]+t[i]*x2\n",
      "        y_eq2=line1[0][1]+t[i]*y2\n",
      "        z_eq2=line1[0][2]+t[i]*z2\n",
      "        \n",
      "        \n",
      "        i=i+1\n",
      "    \n",
      "        #compute the distance between the two points\n",
      "        length=math.sqrt((x_eq1-x_eq2)**2+(y_eq1-y_eq2)**2+(z_eq1-z_eq2)**2)\n",
      "        \n",
      "        #save the distance and points if it is shorter than that last \n",
      "        if length<distance:\n",
      "            distance=length\n",
      "            poca[0][0]=x_eq1\n",
      "            poca[1][0]=x_eq2\n",
      "            poca[0][1]=y_eq1\n",
      "            poca[1][1]=y_eq2\n",
      "            poca[0][2]=z_eq1\n",
      "            poca[1][2]=z_eq2\n",
      "\n",
      "    \n",
      "    doca=distance\n",
      "    #midpoint between the two closest points \n",
      "    poca[2][0]=(poca[0][0]+poca[1][0])/2.\n",
      "    poca[2][1]=(poca[0][1]+poca[1][1])/2.\n",
      "    poca[2][2]=(poca[0][2]+poca[1][2])/2.\n",
      "    \n",
      "\n",
      "    \n",
      "    return doca,poca\n",
      "    "
     ],
     "language": "python",
     "metadata": {},
     "outputs": [],
     "prompt_number": 66
    },
    {
     "cell_type": "code",
     "collapsed": false,
     "input": [
      "point00 = np.array([-5.,0.,0.])\n",
      "point01 = np.array([5.,0.,0.])\n",
      "\n",
      "line0 = np.array([point00,point01])\n",
      "\n",
      "print line0\n",
      "\n",
      "\n",
      "point10 = np.array([0.,1.,5.])\n",
      "point11 = np.array([0.,1.,-5.])\n",
      "\n",
      "line1 = np.array([point10,point11])\n",
      "\n",
      "# THIS IS WHERE YOU CALL YOUR FUNCTION\n",
      "\n",
      "doca,poca = doca_poca(line0,line1)\n",
      "\n",
      "print \"Doca and poca:\"\n",
      "print doca\n",
      "print poca\n"
     ],
     "language": "python",
     "metadata": {},
     "outputs": [
      {
       "output_type": "stream",
       "stream": "stdout",
       "text": [
        "[[-5.  0.  0.]\n",
        " [ 5.  0.  0.]]\n",
        "Doca and poca:"
       ]
      },
      {
       "output_type": "stream",
       "stream": "stdout",
       "text": [
        "\n",
        "1.00000506299\n",
        "[[-0.00225011  0.          0.        ]\n",
        " [ 0.          1.          0.00225011]\n",
        " [-0.00112506  0.5         0.00112506]]\n"
       ]
      }
     ],
     "prompt_number": 89
    },
    {
     "cell_type": "code",
     "collapsed": false,
     "input": [
      "import matplotlib as mpl\n",
      "from mpl_toolkits.mplot3d import Axes3D\n",
      "import matplotlib.pyplot as plt\n",
      "\n",
      "# Uncomment this if you want the graphs to pop out and be interactive\n",
      "%pylab qt"
     ],
     "language": "python",
     "metadata": {},
     "outputs": [
      {
       "output_type": "stream",
       "stream": "stdout",
       "text": [
        "Populating the interactive namespace from numpy and matplotlib\n"
       ]
      }
     ],
     "prompt_number": 5
    },
    {
     "cell_type": "code",
     "collapsed": false,
     "input": [
      "fig = plt.figure()\n",
      "ax = fig.gca(projection='3d')\n",
      "\n",
      "line_for_plotting = line0.transpose()\n",
      "print line_for_plotting\n",
      "\n",
      "plt.plot(line_for_plotting[0],line_for_plotting[1],line_for_plotting[2])\n",
      "\n",
      "\n",
      "line_for_plotting = line1.transpose()\n",
      "print line_for_plotting\n",
      "plt.plot(line_for_plotting[0],line_for_plotting[1],line_for_plotting[2])\n",
      "\n",
      "ax.set_xlim(-5,5)\n",
      "ax.set_ylim(-5,5)\n",
      "ax.set_zlim(-5,5)"
     ],
     "language": "python",
     "metadata": {},
     "outputs": [
      {
       "output_type": "stream",
       "stream": "stdout",
       "text": [
        "[[-5.  5.]\n",
        " [ 0.  0.]\n",
        " [ 0.  0.]]\n",
        "[[ 0.  0.]\n",
        " [ 1.  1.]\n",
        " [ 5. -5.]]\n"
       ]
      },
      {
       "metadata": {},
       "output_type": "pyout",
       "prompt_number": 88,
       "text": [
        "(-5, 5)"
       ]
      }
     ],
     "prompt_number": 88
    },
    {
     "cell_type": "code",
     "collapsed": false,
     "input": [
      "point00 = 5*np.random.random((3))\n",
      "point01 = 5*np.random.random((3))\n",
      "\n",
      "line0 = np.array([point00,point01])\n",
      "\n",
      "print line0\n",
      "\n",
      "point10 = 5*np.random.random((3))\n",
      "point11 = 5*np.random.random((3))\n",
      "\n",
      "line1 = np.array([point10,point11])\n"
     ],
     "language": "python",
     "metadata": {},
     "outputs": [
      {
       "output_type": "stream",
       "stream": "stdout",
       "text": [
        "[[ 2.77740837  0.56755915  2.62262981]\n",
        " [ 4.03820986  3.85893828  4.67350969]]\n"
       ]
      }
     ],
     "prompt_number": 84
    },
    {
     "cell_type": "code",
     "collapsed": false,
     "input": [
      "fig1 = plt.figure()\n",
      "ax1 = fig1.gca(projection='3d')\n",
      "\n",
      "line_for_plotting = line0.transpose()\n",
      "print line_for_plotting\n",
      "\n",
      "plt.plot(line_for_plotting[0],line_for_plotting[1],line_for_plotting[2])\n",
      "\n",
      "\n",
      "line_for_plotting = line1.transpose()\n",
      "print line_for_plotting\n",
      "plt.plot(line_for_plotting[0],line_for_plotting[1],line_for_plotting[2])\n",
      "\n",
      "ax1.set_xlim(-5,5)\n",
      "ax1.set_ylim(-5,5)\n",
      "ax1.set_zlim(-5,5)"
     ],
     "language": "python",
     "metadata": {},
     "outputs": [
      {
       "output_type": "stream",
       "stream": "stdout",
       "text": [
        "[[ 2.77740837  4.03820986]\n",
        " [ 0.56755915  3.85893828]\n",
        " [ 2.62262981  4.67350969]]\n",
        "[[ 2.14663011  1.21956315]\n",
        " [ 2.89277586  3.50196515]\n",
        " [ 1.50156725  3.2386153 ]]\n"
       ]
      },
      {
       "metadata": {},
       "output_type": "pyout",
       "prompt_number": 85,
       "text": [
        "(-5, 5)"
       ]
      }
     ],
     "prompt_number": 85
    },
    {
     "cell_type": "code",
     "collapsed": false,
     "input": [
      "doca,poca = doca_poca(line0,line1)\n",
      "\n",
      "print \"Doca and poca:\"\n",
      "print doca\n",
      "print poca"
     ],
     "language": "python",
     "metadata": {},
     "outputs": [
      {
       "output_type": "stream",
       "stream": "stdout",
       "text": [
        "Doca and poca:\n",
        "2.31976699359\n",
        "[[ 3.24739562  1.79448207  3.38713351]\n",
        " [ 1.80104862  3.11986252  2.14908429]\n",
        " [ 2.52422212  2.4571723   2.7681089 ]]\n"
       ]
      }
     ],
     "prompt_number": 86
    },
    {
     "cell_type": "code",
     "collapsed": false,
     "input": [],
     "language": "python",
     "metadata": {},
     "outputs": []
    }
   ],
   "metadata": {}
  }
 ]
}